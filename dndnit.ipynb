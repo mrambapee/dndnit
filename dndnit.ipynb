{
 "cells": [
  {
   "cell_type": "code",
   "execution_count": 21,
   "metadata": {},
   "outputs": [
    {
     "name": "stdout",
     "output_type": "stream",
     "text": [
      "[16, 13, 17, 15, 13]\n"
     ]
    }
   ],
   "source": [
    "import random\n",
    "\n",
    "stats = []\n",
    "\n",
    "for i in range(6):\n",
    "    rolls = []\n",
    "\n",
    "    for j in range(6):\n",
    "        roll = random.randint(1,6)\n",
    "        rolls.append(roll)\n",
    "\n",
    "stat = sum(rolls) - min(rolls)\n",
    "stats.append(stat)\n",
    "\n",
    "stats.remove(min(stats))\n",
    "\n",
    "\n",
    "stats = []\n",
    "for _ in range(6):\n",
    "    rolls = [random.randint(1, 6) for _ in range(4)]\n",
    "    stats.append(sum(rolls) - min(rolls))\n",
    "stats.remove(min(stats))\n",
    "print (stats)"
   ]
  }
 ],
 "metadata": {
  "kernelspec": {
   "display_name": "Python 3",
   "language": "python",
   "name": "python3"
  },
  "language_info": {
   "codemirror_mode": {
    "name": "ipython",
    "version": 3
   },
   "file_extension": ".py",
   "mimetype": "text/x-python",
   "name": "python",
   "nbconvert_exporter": "python",
   "pygments_lexer": "ipython3",
   "version": "3.11.6"
  },

base_stats = ["str" : 0, "dex" : 0, "con" : 0, "int" : 0,\
 "wis" : 0, "cha" : 0]
 
barbarian_priority = ["str", "con", "dex", "wis", "cha", "int"]
bard_priority = ["cha", "dex", "con", "wis", "int", "str"]
cleric_priority = ["wis", "con", "str", "dex", "cha", "int"]
druid_priority = ["wis", "con", "dex" "int", "str", "cha"]
fighter_priority = ["str", "dex", "con", "int", "wis", "cha"]
monk_priority = ["dex", "wis", "con" "int", "cha", "str"]
paladin_priority = ["str", "con", "cha", "dex", "wis", "int"]
ranger_priority = ["dex", "wis", "con", "str", "cha", "int"]
rogue_priority = ["dex", "con", "cha", "int", "wis", "str"]
sorcerer_priority = ["cha", "dex", "int", "con", "wis", "str"]
warlock_priority = ["cha", "con", "dex", "wis", "str", "int"]
wizard_priority = ["int", "con", "dex", "cha", "wis", "str"]
  "orig_nbformat": 4
 },
 "nbformat": 4,
 "nbformat_minor": 2
}
